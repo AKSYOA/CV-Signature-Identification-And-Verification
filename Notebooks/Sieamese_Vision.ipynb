{
  "nbformat": 4,
  "nbformat_minor": 0,
  "metadata": {
    "colab": {
      "provenance": []
    },
    "kernelspec": {
      "name": "python3",
      "display_name": "Python 3"
    },
    "language_info": {
      "name": "python"
    },
    "accelerator": "GPU",
    "gpuClass": "standard"
  },
  "cells": [
    {
      "cell_type": "code",
      "source": [
        "from sklearn.metrics import accuracy_score\n",
        "from Siamese_utilities import *\n",
        "import time\n",
        "from Data_Preparation import *\n",
        "\n",
        "import matplotlib.pyplot as plt\n",
        "import cv2\n",
        "\n",
        "train_images, test_images = get_dataset()\n",
        "train_triplets = get_triplet(train_images)\n",
        "test_triplets = get_triplet(test_images)\n",
        "\n",
        "siamese_model = generate_Siamese_model()\n",
        "\n",
        "save_all = False\n",
        "epochs = 10\n",
        "batch_size = 64\n",
        "\n",
        "max_acc = 0\n",
        "train_loss = []\n",
        "test_metrics = []\n",
        "\n",
        "\n",
        "def test_on_triplets(batch_size=32):\n",
        "    pos_scores, neg_scores = [], []\n",
        "\n",
        "    for data in get_batch(test_triplets, batch_size=batch_size):\n",
        "        prediction = siamese_model.predict(data)\n",
        "        pos_scores += list(prediction[0])\n",
        "        neg_scores += list(prediction[1])\n",
        "\n",
        "    accuracy = np.sum(np.array(pos_scores) < np.array(neg_scores)) / len(pos_scores)\n",
        "    ap_mean = np.mean(pos_scores)\n",
        "    an_mean = np.mean(neg_scores)\n",
        "    ap_stds = np.std(pos_scores)\n",
        "    an_stds = np.std(neg_scores)\n",
        "\n",
        "    print(f\"Accuracy on test = {accuracy:.5f}\")\n",
        "    return accuracy, ap_mean, an_mean, ap_stds, an_stds\n",
        "\n",
        "\n",
        "for epoch in range(1, epochs + 1):\n",
        "    t = time.time()\n",
        "\n",
        "    # Training the model on train data\n",
        "    epoch_loss = []\n",
        "    for data in get_batch(train_triplets, batch_size=batch_size):\n",
        "        loss = siamese_model.train_on_batch(data)\n",
        "        epoch_loss.append(loss)\n",
        "    epoch_loss = sum(epoch_loss) / len(epoch_loss)\n",
        "    train_loss.append(epoch_loss)\n",
        "\n",
        "    print(f\"\\nEPOCH: {epoch} \\t (Epoch done in {int(time.time() - t)} sec)\")\n",
        "    print(f\"Loss on train    = {epoch_loss:.5f}\")\n",
        "\n",
        "    # Testing the model on test data\n",
        "    metric = test_on_triplets(batch_size=batch_size)\n",
        "    test_metrics.append(metric)\n",
        "    accuracy = metric[0]\n",
        "\n",
        "    # Saving the model weights\n",
        "    if save_all or accuracy >= max_acc:\n",
        "        siamese_model.save_weights(\"siamese_model\")\n",
        "        max_acc = accuracy\n",
        "\n",
        "# Saving the model after all epochs run\n",
        "siamese_model.save_weights(\"siamese_model-final\")\n"
      ],
      "metadata": {
        "colab": {
          "base_uri": "https://localhost:8080/"
        },
        "id": "qP7BgTQju6Ff",
        "outputId": "84f26ee8-33de-43e3-ba5a-2e93a3a4bb05"
      },
      "execution_count": 1,
      "outputs": [
        {
          "output_type": "stream",
          "name": "stdout",
          "text": [
            "Model: \"Siamese_Network\"\n",
            "__________________________________________________________________________________________________\n",
            " Layer (type)                   Output Shape         Param #     Connected to                     \n",
            "==================================================================================================\n",
            " Anchor_Input (InputLayer)      [(None, 128, 128, 3  0           []                               \n",
            "                                )]                                                                \n",
            "                                                                                                  \n",
            " Positive_Input (InputLayer)    [(None, 128, 128, 3  0           []                               \n",
            "                                )]                                                                \n",
            "                                                                                                  \n",
            " Negative_Input (InputLayer)    [(None, 128, 128, 3  0           []                               \n",
            "                                )]                                                                \n",
            "                                                                                                  \n",
            " Encode_Model (Sequential)      (None, 256)          22043944    ['Anchor_Input[0][0]',           \n",
            "                                                                  'Positive_Input[0][0]',         \n",
            "                                                                  'Negative_Input[0][0]']         \n",
            "                                                                                                  \n",
            " distance_layer (DistanceLayer)  ((None,),           0           ['Encode_Model[3][0]',           \n",
            "                                 (None,))                         'Encode_Model[4][0]',           \n",
            "                                                                  'Encode_Model[5][0]']           \n",
            "                                                                                                  \n",
            "==================================================================================================\n",
            "Total params: 22,043,944\n",
            "Trainable params: 9,583,800\n",
            "Non-trainable params: 12,460,144\n",
            "__________________________________________________________________________________________________\n",
            "\n",
            "EPOCH: 1 \t (Epoch done in 26 sec)\n",
            "Loss on train    = 0.69535\n",
            "2/2 [==============================] - 4s 1s/step\n",
            "Accuracy on test = 0.75000\n",
            "\n",
            "EPOCH: 2 \t (Epoch done in 11 sec)\n",
            "Loss on train    = 0.42606\n",
            "2/2 [==============================] - 0s 108ms/step\n",
            "Accuracy on test = 0.96667\n",
            "\n",
            "EPOCH: 3 \t (Epoch done in 11 sec)\n",
            "Loss on train    = 0.29227\n",
            "2/2 [==============================] - 0s 108ms/step\n",
            "Accuracy on test = 0.93333\n",
            "\n",
            "EPOCH: 4 \t (Epoch done in 11 sec)\n",
            "Loss on train    = 0.08070\n",
            "2/2 [==============================] - 0s 108ms/step\n",
            "Accuracy on test = 0.88333\n",
            "\n",
            "EPOCH: 5 \t (Epoch done in 10 sec)\n",
            "Loss on train    = 0.23858\n",
            "2/2 [==============================] - 0s 112ms/step\n",
            "Accuracy on test = 0.98333\n",
            "\n",
            "EPOCH: 6 \t (Epoch done in 10 sec)\n",
            "Loss on train    = 0.05508\n",
            "2/2 [==============================] - 0s 108ms/step\n",
            "Accuracy on test = 0.90000\n",
            "\n",
            "EPOCH: 7 \t (Epoch done in 10 sec)\n",
            "Loss on train    = 0.05449\n",
            "2/2 [==============================] - 0s 108ms/step\n",
            "Accuracy on test = 0.98333\n",
            "\n",
            "EPOCH: 8 \t (Epoch done in 10 sec)\n",
            "Loss on train    = 0.01415\n",
            "2/2 [==============================] - 0s 107ms/step\n",
            "Accuracy on test = 0.91667\n",
            "\n",
            "EPOCH: 9 \t (Epoch done in 10 sec)\n",
            "Loss on train    = 0.00510\n",
            "2/2 [==============================] - 0s 107ms/step\n",
            "Accuracy on test = 0.91667\n",
            "\n",
            "EPOCH: 10 \t (Epoch done in 11 sec)\n",
            "Loss on train    = 0.00011\n",
            "2/2 [==============================] - 0s 109ms/step\n",
            "Accuracy on test = 0.93333\n"
          ]
        }
      ]
    },
    {
      "cell_type": "code",
      "source": [
        "def classify_images(signature_list1, signature_list2, threshold=1.3):\n",
        "    # Getting the encodings for the passed faces\n",
        "    tensor1 = encoder.predict(signature_list1)\n",
        "    tensor2 = encoder.predict(signature_list2)\n",
        "    \n",
        "    distance = np.sum(np.square(tensor1-tensor2), axis=-1)\n",
        "    prediction = np.where(distance<=threshold, 0, 1)\n",
        "    return prediction"
      ],
      "metadata": {
        "id": "ySA071r25njd"
      },
      "execution_count": 5,
      "outputs": []
    },
    {
      "cell_type": "code",
      "source": [
        "def extract_encoder(model):\n",
        "    encoder = get_encoder((128, 128, 3))\n",
        "    i=0\n",
        "    for e_layer in model.layers[0].layers[3].layers:\n",
        "        layer_weight = e_layer.get_weights()\n",
        "        encoder.layers[i].set_weights(layer_weight)\n",
        "        i+=1\n",
        "    return encoder\n",
        "\n",
        "encoder = extract_encoder(siamese_model)\n",
        "encoder.save_weights(\"encoder\")\n",
        "encoder.summary()"
      ],
      "metadata": {
        "colab": {
          "base_uri": "https://localhost:8080/"
        },
        "id": "tIjB9tlc4ITM",
        "outputId": "c8d30b7a-ed65-49e1-e6c4-6c4e6c5ae774"
      },
      "execution_count": 3,
      "outputs": [
        {
          "output_type": "stream",
          "name": "stdout",
          "text": [
            "Model: \"Encode_Model\"\n",
            "_________________________________________________________________\n",
            " Layer (type)                Output Shape              Param #   \n",
            "=================================================================\n",
            " xception (Functional)       (None, 2048)              20861480  \n",
            "                                                                 \n",
            " flatten_211 (Flatten)       (None, 2048)              0         \n",
            "                                                                 \n",
            " dense_422 (Dense)           (None, 512)               1049088   \n",
            "                                                                 \n",
            " batch_normalization_219 (Ba  (None, 512)              2048      \n",
            " tchNormalization)                                               \n",
            "                                                                 \n",
            " dense_423 (Dense)           (None, 256)               131328    \n",
            "                                                                 \n",
            " lambda_211 (Lambda)         (None, 256)               0         \n",
            "                                                                 \n",
            "=================================================================\n",
            "Total params: 22,043,944\n",
            "Trainable params: 9,583,800\n",
            "Non-trainable params: 12,460,144\n",
            "_________________________________________________________________\n"
          ]
        }
      ]
    },
    {
      "cell_type": "code",
      "source": [
        "from sklearn.metrics import accuracy_score, confusion_matrix, classification_report\n",
        "import seaborn as sns\n",
        "\n",
        "def ModelMetrics(pos_list, neg_list):\n",
        "    true = np.array([0]*len(pos_list)+[1]*len(neg_list))\n",
        "    pred = np.append(pos_list, neg_list)\n",
        "    \n",
        "    # Compute and print the accuracy\n",
        "    print(f\"\\nAccuracy of model: {accuracy_score(true, pred)}\\n\")\n",
        "    \n",
        "    # Compute and plot the Confusion matrix\n",
        "    cf_matrix = confusion_matrix(true, pred)\n",
        "\n",
        "    categories  = ['Similar','Different']\n",
        "    names = ['True Similar','False Similar', 'False Different','True Different']\n",
        "    percentages = ['{0:.2%}'.format(value) for value in cf_matrix.flatten() / np.sum(cf_matrix)]\n",
        "\n",
        "    labels = [f'{v1}\\n{v2}' for v1, v2 in zip(names, percentages)]\n",
        "    labels = np.asarray(labels).reshape(2,2)\n",
        "\n",
        "    sns.heatmap(cf_matrix, annot = labels, cmap = 'Blues',fmt = '',\n",
        "                xticklabels = categories, yticklabels = categories)\n",
        "\n",
        "    plt.xlabel(\"Predicted\", fontdict = {'size':14}, labelpad = 10)\n",
        "    plt.ylabel(\"Actual\"   , fontdict = {'size':14}, labelpad = 10)\n",
        "    plt.title (\"Confusion Matrix\", fontdict = {'size':18}, pad = 20)\n",
        "\n",
        "\n",
        "pos_list = np.array([])\n",
        "neg_list = np.array([])\n",
        "\n",
        "for data in get_batch(test_triplets, batch_size=256):\n",
        "    a, p, n = data\n",
        "    pos_list = np.append(pos_list, classify_images(a, p))\n",
        "    neg_list = np.append(neg_list, classify_images(a, n))\n",
        "    break\n",
        "\n",
        "ModelMetrics(pos_list, neg_list)"
      ],
      "metadata": {
        "colab": {
          "base_uri": "https://localhost:8080/",
          "height": 445
        },
        "id": "oS0omZLg5QRi",
        "outputId": "da1e34d5-55eb-4b23-de6b-f796f920ccab"
      },
      "execution_count": 4,
      "outputs": [
        {
          "output_type": "stream",
          "name": "stdout",
          "text": [
            "2/2 [==============================] - 1s 57ms/step\n",
            "2/2 [==============================] - 0s 44ms/step\n",
            "2/2 [==============================] - 0s 43ms/step\n",
            "2/2 [==============================] - 0s 29ms/step\n",
            "\n",
            "Accuracy of model: 0.8416666666666667\n",
            "\n"
          ]
        },
        {
          "output_type": "display_data",
          "data": {
            "text/plain": [
              "<Figure size 432x288 with 2 Axes>"
            ],
            "image/png": "[encoded data removed]"
          },
          "metadata": {
            "needs_background": "light"
          }
        }
      ]
    }
  ]
}