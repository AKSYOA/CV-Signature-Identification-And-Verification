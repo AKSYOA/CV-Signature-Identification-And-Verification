{
  "nbformat": 4,
  "nbformat_minor": 0,
  "metadata": {
    "colab": {
      "provenance": []
    },
    "kernelspec": {
      "name": "python3",
      "display_name": "Python 3"
    },
    "language_info": {
      "name": "python"
    },
    "accelerator": "GPU",
    "gpuClass": "standard"
  },
  "cells": [
    {
      "cell_type": "code",
      "source": [
        "from sklearn.metrics import accuracy_score\n",
        "from sklearn.metrics import accuracy_score, confusion_matrix, classification_report\n",
        "import seaborn as sns\n",
        "from Siamese_utilities import *\n",
        "import time\n",
        "from Data_Preparation import *\n",
        "\n",
        "import matplotlib.pyplot as plt\n",
        "import cv2\n",
        "train_images, test_images = get_dataset()\n",
        "train_triplets = get_triplet(train_images)\n",
        "test_triplets = get_triplet(test_images)\n",
        "\n",
        "siamese_model = generate_Siamese_model()\n",
        "siamese_model.build(input_shape=())\n",
        "siamese_model.load_weights('/content/siamese_model-final.h5')\n",
        "\n",
        "encoder = get_encoder((128, 128, 3))\n",
        "encoder.load_weights('/content/encoder.h5')\n",
        "\n",
        "\n",
        "def classify_images(signature_list1, signature_list2, threshold=1.3):\n",
        "    # Getting the encodings for the passed faces\n",
        "    tensor1 = encoder.predict(signature_list1)\n",
        "    tensor2 = encoder.predict(signature_list2)\n",
        "\n",
        "    distance = np.sum(np.square(tensor1 - tensor2), axis=-1)\n",
        "    prediction = np.where(distance <= threshold, 0, 1)\n",
        "    return prediction\n",
        "\n",
        "\n",
        "def ModelMetrics(pos_list, neg_list):\n",
        "    true = np.array([0] * len(pos_list) + [1] * len(neg_list))\n",
        "    pred = np.append(pos_list, neg_list)\n",
        "\n",
        "    # Compute and print the accuracy\n",
        "    print(f\"\\nAccuracy of model: {accuracy_score(true, pred)}\\n\")\n",
        "\n",
        "    # Compute and plot the Confusion matrix\n",
        "    cf_matrix = confusion_matrix(true, pred)\n",
        "\n",
        "    categories = ['Similar', 'Different']\n",
        "    names = ['True Similar', 'False Similar', 'False Different', 'True Different']\n",
        "    percentages = ['{0:.2%}'.format(value) for value in cf_matrix.flatten() / np.sum(cf_matrix)]\n",
        "\n",
        "    labels = [f'{v1}\\n{v2}' for v1, v2 in zip(names, percentages)]\n",
        "    labels = np.asarray(labels).reshape(2, 2)\n",
        "\n",
        "    sns.heatmap(cf_matrix, annot=labels, cmap='Blues', fmt='',\n",
        "                xticklabels=categories, yticklabels=categories)\n",
        "\n",
        "    plt.xlabel(\"Predicted\", fontdict={'size': 14}, labelpad=10)\n",
        "    plt.ylabel(\"Actual\", fontdict={'size': 14}, labelpad=10)\n",
        "    plt.title(\"Confusion Matrix\", fontdict={'size': 18}, pad=20)\n",
        "\n",
        "\n",
        "pos_list = np.array([])\n",
        "neg_list = np.array([])\n",
        "\n",
        "for data in get_batch(test_triplets, batch_size=40):\n",
        "    a, p, n = data\n",
        "    pos_list = np.append(pos_list, classify_images(a, p))\n",
        "    neg_list = np.append(neg_list, classify_images(a, n))\n",
        "    break\n",
        "\n",
        "ModelMetrics(pos_list, neg_list)\n"
      ],
      "metadata": {
        "colab": {
          "base_uri": "https://localhost:8080/",
          "height": 916
        },
        "id": "g3ydibDFhOnF",
        "outputId": "768d0f13-b33e-4d0d-bb18-677efa89e0f4"
      },
      "execution_count": 5,
      "outputs": [
        {
          "output_type": "stream",
          "name": "stdout",
          "text": [
            "Model: \"Siamese_Network\"\n",
            "__________________________________________________________________________________________________\n",
            " Layer (type)                   Output Shape         Param #     Connected to                     \n",
            "==================================================================================================\n",
            " Anchor_Input (InputLayer)      [(None, 128, 128, 3  0           []                               \n",
            "                                )]                                                                \n",
            "                                                                                                  \n",
            " Positive_Input (InputLayer)    [(None, 128, 128, 3  0           []                               \n",
            "                                )]                                                                \n",
            "                                                                                                  \n",
            " Negative_Input (InputLayer)    [(None, 128, 128, 3  0           []                               \n",
            "                                )]                                                                \n",
            "                                                                                                  \n",
            " Encode_Model (Sequential)      (None, 256)          22043944    ['Anchor_Input[0][0]',           \n",
            "                                                                  'Positive_Input[0][0]',         \n",
            "                                                                  'Negative_Input[0][0]']         \n",
            "                                                                                                  \n",
            " distance_layer_3 (DistanceLaye  ((None,),           0           ['Encode_Model[3][0]',           \n",
            " r)                              (None,))                         'Encode_Model[4][0]',           \n",
            "                                                                  'Encode_Model[5][0]']           \n",
            "                                                                                                  \n",
            "==================================================================================================\n",
            "Total params: 22,043,944\n",
            "Trainable params: 9,583,800\n",
            "Non-trainable params: 12,460,144\n",
            "__________________________________________________________________________________________________\n",
            "2/2 [==============================] - 1s 58ms/step\n",
            "2/2 [==============================] - 0s 57ms/step\n",
            "2/2 [==============================] - 0s 46ms/step\n",
            "2/2 [==============================] - 0s 47ms/step\n",
            "\n",
            "Accuracy of model: 0.8625\n",
            "\n"
          ]
        },
        {
          "output_type": "display_data",
          "data": {
            "text/plain": [
              "<Figure size 432x288 with 2 Axes>"
            ],
            "image/png": "[encoded data removed]"
          },
          "metadata": {
            "needs_background": "light"
          }
        }
      ]
    }
  ]
}